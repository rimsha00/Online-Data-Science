{
 "cells": [
  {
   "cell_type": "markdown",
   "id": "b8080670",
   "metadata": {},
   "source": [
    "# List Comprehension"
   ]
  },
  {
   "cell_type": "code",
   "execution_count": 2,
   "id": "e79bd880",
   "metadata": {},
   "outputs": [
    {
     "data": {
      "text/plain": [
       "['h', 'u', 'm', 'a', 'n']"
      ]
     },
     "execution_count": 2,
     "metadata": {},
     "output_type": "execute_result"
    }
   ],
   "source": [
    " h = []\n",
    " for i in \"human\":\n",
    "    h.append(i)\n",
    "h"
   ]
  },
  {
   "cell_type": "code",
   "execution_count": 3,
   "id": "a001d9f2",
   "metadata": {},
   "outputs": [
    {
     "data": {
      "text/plain": [
       "['h', 'u', 'm', 'a', 'n']"
      ]
     },
     "execution_count": 3,
     "metadata": {},
     "output_type": "execute_result"
    }
   ],
   "source": [
    " h = [letter for letter  in \"human\"] # [expression for var in iterator]\n",
    " h   "
   ]
  },
  {
   "cell_type": "code",
   "execution_count": 13,
   "id": "8e58f270",
   "metadata": {},
   "outputs": [
    {
     "data": {
      "text/plain": [
       "[0, 2, 4, 6, 8, 10, 12, 14, 16, 18]"
      ]
     },
     "execution_count": 13,
     "metadata": {},
     "output_type": "execute_result"
    }
   ],
   "source": [
    " # print 2's table\n",
    " \n",
    " h = [x*2 for x in range (10)]\n",
    " h"
   ]
  },
  {
   "cell_type": "code",
   "execution_count": 14,
   "id": "1769f054",
   "metadata": {},
   "outputs": [
    {
     "data": {
      "text/plain": [
       "[2, 4, 6, 8, 10, 12, 14, 16, 18, 20]"
      ]
     },
     "execution_count": 14,
     "metadata": {},
     "output_type": "execute_result"
    }
   ],
   "source": [
    "h = [x*2 for x in range (1,11)]\n",
    "h"
   ]
  },
  {
   "cell_type": "code",
   "execution_count": 19,
   "id": "1185546f",
   "metadata": {},
   "outputs": [
    {
     "data": {
      "text/plain": [
       "[2, 4, 6, 8, 10, 12, 14, 16, 18, 20]"
      ]
     },
     "execution_count": 19,
     "metadata": {},
     "output_type": "execute_result"
    }
   ],
   "source": [
    "h = [x for x in range (1,21) if x%2 == 0]\n",
    "h =[]\n",
    "for x in range (1,21):\n",
    "    if x%2==0:\n",
    "        h.append(x)\n",
    "h"
   ]
  },
  {
   "cell_type": "code",
   "execution_count": 29,
   "id": "084d3264",
   "metadata": {},
   "outputs": [
    {
     "name": "stdout",
     "output_type": "stream",
     "text": [
      "enter num3\n"
     ]
    },
    {
     "data": {
      "text/plain": [
       "[3, 6, 9, 12, 15, 18, 21, 24, 27, 30, 33, 36, 39, 42, 45, 48, 51, 54, 57, 60]"
      ]
     },
     "execution_count": 29,
     "metadata": {},
     "output_type": "execute_result"
    }
   ],
   "source": [
    "x = int(input(\"enter num\"))\n",
    "h = [i*x for i in range (1,21)]\n",
    "h "
   ]
  },
  {
   "cell_type": "code",
   "execution_count": 30,
   "id": "9b74be3e",
   "metadata": {},
   "outputs": [],
   "source": [
    "# Transpose\n",
    "# [1,2,3,4]\n",
    "# [5,6,7,8]\n",
    "# [1,5]\n",
    "# [2,6]\n",
    "# [3,7]\n",
    "# [4,8]"
   ]
  },
  {
   "cell_type": "code",
   "execution_count": 37,
   "id": "54e2fc27",
   "metadata": {},
   "outputs": [
    {
     "data": {
      "text/plain": [
       "[[1, 5], [2, 6], [3, 7], [4, 8]]"
      ]
     },
     "execution_count": 37,
     "metadata": {},
     "output_type": "execute_result"
    }
   ],
   "source": [
    "matrix = [[1,2,3,4],[5,6,7,8]]\n",
    "transpose = []\n",
    "for i in range (len(matrix[0])):\n",
    "    row = []\n",
    "    for j in matrix:\n",
    "        row.append(j[i])\n",
    "    transpose.append(row)\n",
    "transpose"
   ]
  },
  {
   "cell_type": "code",
   "execution_count": 42,
   "id": "10cb0390",
   "metadata": {},
   "outputs": [
    {
     "data": {
      "text/plain": [
       "[[1, 5], [2, 6], [3, 7], [4, 8]]"
      ]
     },
     "execution_count": 42,
     "metadata": {},
     "output_type": "execute_result"
    }
   ],
   "source": [
    "transpose = [[row[i] for row in matrix] for i in range(len(matrix[0]))]\n",
    "transpose"
   ]
  },
  {
   "cell_type": "code",
   "execution_count": 44,
   "id": "1c1c985b",
   "metadata": {},
   "outputs": [
    {
     "name": "stdout",
     "output_type": "stream",
     "text": [
      "0\n",
      "1\n",
      "2\n",
      "3\n",
      "4\n",
      "5\n",
      "6\n",
      "7\n",
      "8\n",
      "9\n"
     ]
    }
   ],
   "source": [
    "for i in range(10): # for(i=0;i<10;i++)\n",
    "    print(i)"
   ]
  },
  {
   "cell_type": "code",
   "execution_count": 46,
   "id": "7bfba04c",
   "metadata": {},
   "outputs": [
    {
     "name": "stdout",
     "output_type": "stream",
     "text": [
      "1\n",
      "4\n",
      "7\n"
     ]
    }
   ],
   "source": [
    "for i in range(1,10,3): # for(i=0;i<10;i++)\n",
    "    print(i)"
   ]
  },
  {
   "cell_type": "markdown",
   "id": "2797bd8b",
   "metadata": {},
   "source": [
    "# DICTIONARY"
   ]
  },
  {
   "cell_type": "code",
   "execution_count": 50,
   "id": "ac9df83f",
   "metadata": {},
   "outputs": [
    {
     "data": {
      "text/plain": [
       "dict"
      ]
     },
     "execution_count": 50,
     "metadata": {},
     "output_type": "execute_result"
    }
   ],
   "source": [
    "a = {'Ali': \"03081234567\", \"Rimsha\": \"454544454545\"}\n",
    "type(a)"
   ]
  },
  {
   "cell_type": "code",
   "execution_count": 51,
   "id": "ad8fa252",
   "metadata": {},
   "outputs": [
    {
     "data": {
      "text/plain": [
       "{1: 'a', 2: 'b', 3: 'c'}"
      ]
     },
     "execution_count": 51,
     "metadata": {},
     "output_type": "execute_result"
    }
   ],
   "source": [
    "a = dict([(1,'a'), (2,'b'), (3,'c')])\n",
    "a"
   ]
  },
  {
   "cell_type": "code",
   "execution_count": 66,
   "id": "b3ee642d",
   "metadata": {},
   "outputs": [
    {
     "data": {
      "text/plain": [
       "['apple', 'banana', 'orange']"
      ]
     },
     "execution_count": 66,
     "metadata": {},
     "output_type": "execute_result"
    }
   ],
   "source": [
    "a = {\n",
    "    'a':[\"apple\",\"banana\",\"orange\"],\n",
    "    'b':[\"onion\",\"potato\",\"carrot\"],\n",
    "    'c':\"car\",\n",
    "    'd':\"bike\"\n",
    "}\n",
    "a['a']"
   ]
  },
  {
   "cell_type": "code",
   "execution_count": 67,
   "id": "95adf5ff",
   "metadata": {},
   "outputs": [
    {
     "data": {
      "text/plain": [
       "'Not found'"
      ]
     },
     "execution_count": 67,
     "metadata": {},
     "output_type": "execute_result"
    }
   ],
   "source": [
    "a = {\n",
    "    'a':\"apple\",\n",
    "    'b':\"onion\",\n",
    "    'c':\"car\",\n",
    "    'd':\"bike\"\n",
    "}\n",
    "a.get('f', \"Not found\")"
   ]
  },
  {
   "cell_type": "code",
   "execution_count": 70,
   "id": "d33d4f90",
   "metadata": {},
   "outputs": [
    {
     "name": "stdout",
     "output_type": "stream",
     "text": [
      "a\n",
      "b\n",
      "c\n",
      "d\n"
     ]
    }
   ],
   "source": [
    "for i in a.keys():\n",
    "    print(i)"
   ]
  },
  {
   "cell_type": "code",
   "execution_count": 71,
   "id": "8a76d317",
   "metadata": {},
   "outputs": [
    {
     "name": "stdout",
     "output_type": "stream",
     "text": [
      "apple\n",
      "onion\n",
      "car\n",
      "bike\n"
     ]
    }
   ],
   "source": [
    "for i in a.values():\n",
    "    print(i)"
   ]
  },
  {
   "cell_type": "code",
   "execution_count": 73,
   "id": "f76427ef",
   "metadata": {},
   "outputs": [
    {
     "name": "stdout",
     "output_type": "stream",
     "text": [
      "a apple\n",
      "b onion\n",
      "c car\n",
      "d bike\n"
     ]
    }
   ],
   "source": [
    "for key ,value in a.items():\n",
    "    print(key, value)"
   ]
  },
  {
   "cell_type": "code",
   "execution_count": 75,
   "id": "9cf15bb9",
   "metadata": {},
   "outputs": [
    {
     "data": {
      "text/plain": [
       "{1: 'a', 2: 'b', 3: 'c', 4: 'd', 5: 'e', 6: 'f', 7: 'g'}"
      ]
     },
     "execution_count": 75,
     "metadata": {},
     "output_type": "execute_result"
    }
   ],
   "source": [
    "list1 = [1,2,3,4,5,6,7] #keys\n",
    "list2 = ['a','b','c','d','e','f','g',] # values\n",
    "res = {}\n",
    "\n",
    "for key in list1:\n",
    "    for value in list2:\n",
    "        res[key] = value\n",
    "        list2.remove(value)\n",
    "        break\n",
    "res"
   ]
  },
  {
   "cell_type": "code",
   "execution_count": 79,
   "id": "ddbd2fd9",
   "metadata": {},
   "outputs": [
    {
     "name": "stdout",
     "output_type": "stream",
     "text": [
      "2 x 1 = 2\n",
      "2 x 2 = 4\n",
      "2 x 3 = 6\n",
      "2 x 4 = 8\n",
      "2 x 5 = 10\n",
      "2 x 6 = 12\n",
      "2 x 7 = 14\n",
      "2 x 8 = 16\n",
      "2 x 9 = 18\n",
      "2 x 10 = 20\n"
     ]
    }
   ],
   "source": [
    "##num of ph number to added\n",
    "##name and number and add it to dictionary\n",
    "\n",
    "h = [x*2 for x in range (1,11)]\n",
    "for i in range(len(h)):\n",
    "    print(str(2) + \" x \"+str(i+1)+ \" = \"+ str(h[i]))"
   ]
  },
  {
   "cell_type": "code",
   "execution_count": null,
   "id": "06bbdaaf",
   "metadata": {},
   "outputs": [],
   "source": []
  }
 ],
 "metadata": {
  "kernelspec": {
   "display_name": "Python 3 (ipykernel)",
   "language": "python",
   "name": "python3"
  },
  "language_info": {
   "codemirror_mode": {
    "name": "ipython",
    "version": 3
   },
   "file_extension": ".py",
   "mimetype": "text/x-python",
   "name": "python",
   "nbconvert_exporter": "python",
   "pygments_lexer": "ipython3",
   "version": "3.9.7"
  }
 },
 "nbformat": 4,
 "nbformat_minor": 5
}
